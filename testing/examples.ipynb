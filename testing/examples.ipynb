{
 "cells": [
  {
   "cell_type": "markdown",
   "metadata": {},
   "source": [
    "## Clarifying the cause of tensor exceptions"
   ]
  },
  {
   "cell_type": "code",
   "execution_count": 1,
   "metadata": {},
   "outputs": [],
   "source": [
    "! pip install -q tensor-sensor\n",
    "! pip install -q -U graphviz"
   ]
  },
  {
   "cell_type": "markdown",
   "metadata": {},
   "source": [
    "### NumPy"
   ]
  },
  {
   "cell_type": "code",
   "execution_count": 2,
   "metadata": {},
   "outputs": [
    {
     "ename": "ModuleNotFoundError",
     "evalue": "No module named 'tsensor.version'",
     "output_type": "error",
     "traceback": [
      "\u001b[0;31m---------------------------------------------------------------------------\u001b[0m",
      "\u001b[0;31mModuleNotFoundError\u001b[0m                       Traceback (most recent call last)",
      "\u001b[0;32m<ipython-input-2-8c369cb473c5>\u001b[0m in \u001b[0;36m<module>\u001b[0;34m\u001b[0m\n\u001b[1;32m      1\u001b[0m \u001b[0mget_ipython\u001b[0m\u001b[0;34m(\u001b[0m\u001b[0;34m)\u001b[0m\u001b[0;34m.\u001b[0m\u001b[0mrun_line_magic\u001b[0m\u001b[0;34m(\u001b[0m\u001b[0;34m'load_ext'\u001b[0m\u001b[0;34m,\u001b[0m \u001b[0;34m'autoreload'\u001b[0m\u001b[0;34m)\u001b[0m\u001b[0;34m\u001b[0m\u001b[0;34m\u001b[0m\u001b[0m\n\u001b[0;32m----> 2\u001b[0;31m \u001b[0;32mimport\u001b[0m \u001b[0mtsensor\u001b[0m\u001b[0;34m\u001b[0m\u001b[0;34m\u001b[0m\u001b[0m\n\u001b[0m\u001b[1;32m      3\u001b[0m \u001b[0;32mimport\u001b[0m \u001b[0mnumpy\u001b[0m \u001b[0;32mas\u001b[0m \u001b[0mnp\u001b[0m\u001b[0;34m\u001b[0m\u001b[0;34m\u001b[0m\u001b[0m\n\u001b[1;32m      4\u001b[0m \u001b[0;32mimport\u001b[0m \u001b[0msys\u001b[0m\u001b[0;34m\u001b[0m\u001b[0;34m\u001b[0m\u001b[0m\n\u001b[1;32m      5\u001b[0m \u001b[0;34m\u001b[0m\u001b[0m\n",
      "\u001b[0;32m~/opt/anaconda3/lib/python3.8/site-packages/tensor_sensor-0.1a20-py3.8.egg/tsensor/__init__.py\u001b[0m in \u001b[0;36m<module>\u001b[0;34m\u001b[0m\n\u001b[1;32m     10\u001b[0m \u001b[0;32mfrom\u001b[0m \u001b[0mtsensor\u001b[0m\u001b[0;34m.\u001b[0m\u001b[0mviz\u001b[0m \u001b[0;32mimport\u001b[0m \u001b[0mpyviz\u001b[0m\u001b[0;34m,\u001b[0m \u001b[0mastviz\u001b[0m\u001b[0;34m\u001b[0m\u001b[0;34m\u001b[0m\u001b[0m\n\u001b[1;32m     11\u001b[0m \u001b[0;34m\u001b[0m\u001b[0m\n\u001b[0;32m---> 12\u001b[0;31m \u001b[0;32mfrom\u001b[0m \u001b[0;34m.\u001b[0m\u001b[0mversion\u001b[0m \u001b[0;32mimport\u001b[0m \u001b[0m__version__\u001b[0m\u001b[0;34m\u001b[0m\u001b[0;34m\u001b[0m\u001b[0m\n\u001b[0m",
      "\u001b[0;31mModuleNotFoundError\u001b[0m: No module named 'tsensor.version'"
     ]
    }
   ],
   "source": [
    "%load_ext autoreload\n",
    "import tsensor\n",
    "import numpy as np\n",
    "import sys\n",
    "\n",
    "W = np.array([[1, 2], [3, 4]])\n",
    "b = np.array([9, 10]).reshape(2, 1)\n",
    "x = np.array([4, 5]).reshape(2, 1)\n",
    "h = np.array([1,2])"
   ]
  },
  {
   "cell_type": "code",
   "execution_count": null,
   "metadata": {},
   "outputs": [],
   "source": [
    "try: # try is used just to catch the exception and extract the messages\n",
    "    with tsensor.clarify():\n",
    "        W @ np.dot(b,b) + np.eye(2,2)@x\n",
    "except BaseException as e:\n",
    "    msgs = str(e).split(\"\\n\")\n",
    "    sys.stderr.write(\"PyTorch says: \"+msgs[0]+'\\n\\n')\n",
    "    sys.stderr.write(\"tsensor adds: \"+msgs[1]+'\\n')"
   ]
  },
  {
   "cell_type": "markdown",
   "metadata": {},
   "source": [
    "### PyTorch"
   ]
  },
  {
   "cell_type": "code",
   "execution_count": null,
   "metadata": {},
   "outputs": [],
   "source": [
    "import tsensor\n",
    "import torch\n",
    "import sys\n",
    "\n",
    "W = torch.tensor([[1, 2], [3, 4]])\n",
    "b = torch.tensor([9, 10]).reshape(2, 1)\n",
    "x = torch.tensor([4, 5]).reshape(2, 1)\n",
    "h = torch.tensor([1,2])"
   ]
  },
  {
   "cell_type": "code",
   "execution_count": null,
   "metadata": {},
   "outputs": [],
   "source": [
    "try: # try is used just to catch the exception and extract the messages\n",
    "    with tsensor.clarify():\n",
    "        W @ torch.dot(b,b)+ torch.eye(2,2)@x + z\n",
    "except BaseException as e:\n",
    "    msgs = e.args[0].split(\"\\n\")\n",
    "    sys.stderr.write(\"PyTorch says: \"+msgs[0]+'\\n\\n')\n",
    "    sys.stderr.write(\"tsensor adds: \"+msgs[1]+'\\n')"
   ]
  },
  {
   "cell_type": "code",
   "execution_count": null,
   "metadata": {},
   "outputs": [],
   "source": [
    "try:\n",
    "    with tsensor.clarify():\n",
    "        W.dot(h) + x\n",
    "except BaseException as e:\n",
    "    msgs = e.args[0].split(\"\\n\")\n",
    "    sys.stderr.write(\"PyTorch says: \"+msgs[0]+'\\n\\n')\n",
    "    sys.stderr.write(\"tsensor adds: \"+msgs[1]+'\\n')"
   ]
  },
  {
   "cell_type": "code",
   "execution_count": null,
   "metadata": {},
   "outputs": [],
   "source": [
    "x = torch.tensor([4, 5, 6]).reshape(3, 1)\n",
    "\n",
    "try:\n",
    "    with tsensor.clarify():\n",
    "        b + x * 3\n",
    "except BaseException as e:\n",
    "    msgs = str(e).split(\"\\n\")\n",
    "    sys.stderr.write(\"PyTorch says: \"+msgs[0]+'\\n\\n')\n",
    "    sys.stderr.write(\"tsensor adds: \"+msgs[1]+'\\n')"
   ]
  },
  {
   "cell_type": "markdown",
   "metadata": {},
   "source": [
    "### TensorFlow"
   ]
  },
  {
   "cell_type": "code",
   "execution_count": null,
   "metadata": {},
   "outputs": [],
   "source": [
    "import tensorflow as tf"
   ]
  },
  {
   "cell_type": "code",
   "execution_count": null,
   "metadata": {},
   "outputs": [],
   "source": [
    "W = tf.constant([[1, 2], [3, 4]])\n",
    "b = tf.reshape(tf.constant([[9, 10]]), (2, 1))\n",
    "x = tf.reshape(tf.constant([[8, 5, 7]]), (3, 1))"
   ]
  },
  {
   "cell_type": "code",
   "execution_count": null,
   "metadata": {},
   "outputs": [],
   "source": [
    "res = tf.matmul(W, b)"
   ]
  },
  {
   "cell_type": "code",
   "execution_count": null,
   "metadata": {},
   "outputs": [],
   "source": [
    "try:\n",
    "    with tsensor.clarify():\n",
    "        res = x * 3\n",
    "        res = tf.matmul(W, b)\n",
    "        b + x * 3\n",
    "except BaseException as e:\n",
    "    msgs = str(e).split(\"\\n\")\n",
    "    sys.stderr.write(\"tensorflow says: \"+msgs[0]+'\\n\\n')\n",
    "    sys.stderr.write(\"tsensor adds: \"+msgs[1]+'\\n')"
   ]
  },
  {
   "cell_type": "code",
   "execution_count": null,
   "metadata": {},
   "outputs": [],
   "source": [
    "def foo(): bar()\n",
    "def bar():\n",
    "    b + x * 3\n",
    "\n",
    "try:\n",
    "    with tsensor.clarify(): # works for any called functions too\n",
    "        foo()\n",
    "except BaseException as e:\n",
    "    msgs = str(e).split(\"\\n\")\n",
    "    sys.stderr.write(\"tensorflow says: \"+msgs[0]+'\\n\\n')\n",
    "    sys.stderr.write(\"tsensor adds: \"+msgs[1]+'\\n')"
   ]
  },
  {
   "cell_type": "markdown",
   "metadata": {},
   "source": [
    "## Explaining matrix algebra statements visually"
   ]
  },
  {
   "cell_type": "code",
   "execution_count": null,
   "metadata": {},
   "outputs": [],
   "source": [
    "W = torch.rand(size=(2000,2000))\n",
    "b = torch.rand(size=(2000,1))\n",
    "h = torch.rand(size=(1_000_000,))\n",
    "x = torch.rand(size=(2000,1))"
   ]
  },
  {
   "cell_type": "code",
   "execution_count": null,
   "metadata": {},
   "outputs": [],
   "source": [
    "import tsensor\n",
    "with tsensor.explain() as explained:\n",
    "    a = torch.relu(x)\n",
    "    b = W @ b + torch.zeros(2000,1)+(h+3).dot(h)"
   ]
  },
  {
   "cell_type": "code",
   "execution_count": null,
   "metadata": {},
   "outputs": [],
   "source": [
    "explained.views[0]"
   ]
  },
  {
   "cell_type": "code",
   "execution_count": null,
   "metadata": {},
   "outputs": [],
   "source": [
    "explained.views[1]"
   ]
  },
  {
   "cell_type": "code",
   "execution_count": null,
   "metadata": {},
   "outputs": [],
   "source": [
    "class GRU: # fake random junk\n",
    "    def __init__(self):\n",
    "        self.W = torch.rand(size=(2,20,2000,10))\n",
    "        self.b = torch.rand(size=(20,1))\n",
    "\n",
    "# W = torch.tensor([[1, 2], [3, 4]])\n",
    "b = torch.rand(size=(2000,1))\n",
    "h = torch.rand(size=(1_000_000,2))\n",
    "\n",
    "g = GRU()\n",
    "try:\n",
    "    with tsensor.explain():\n",
    "        a = 3\n",
    "        a = b + g.W[0,:,:,1]@b+torch.zeros(200,1)+(h+3).dot(h)\n",
    "except BaseException as e:\n",
    "    msgs = str(e).split(\"\\n\")\n",
    "    sys.stderr.write(\"torch says: \"+msgs[0]+'\\n\\n')\n",
    "    sys.stderr.write(\"torch adds: \"+msgs[1]+'\\n')"
   ]
  },
  {
   "cell_type": "code",
   "execution_count": null,
   "metadata": {},
   "outputs": [],
   "source": [
    "try:\n",
    "    with tsensor.clarify():\n",
    "        a = b + g.W[0,:,:,1]@b+torch.zeros(200,1)+(h+3).dot(h)\n",
    "except BaseException as e:\n",
    "    msgs = str(e).split(\"\\n\")\n",
    "    sys.stderr.write(\"torch says: \"+msgs[0]+'\\n\\n')\n",
    "    sys.stderr.write(\"torch adds: \"+msgs[1]+'\\n')"
   ]
  },
  {
   "cell_type": "code",
   "execution_count": null,
   "metadata": {},
   "outputs": [],
   "source": [
    "try:\n",
    "    with tsensor.clarify():\n",
    "        W @ np.dot(b, b) + np.eye(2, 2) @ x\n",
    "except BaseException as e:\n",
    "    msgs = str(e).split(\"\\n\")\n",
    "    sys.stderr.write(\"torch says: \"+msgs[0]+'\\n\\n')\n",
    "    sys.stderr.write(\"torch adds: \"+msgs[1]+'\\n')"
   ]
  },
  {
   "cell_type": "markdown",
   "metadata": {},
   "source": [
    "### Saving explanations to files"
   ]
  },
  {
   "cell_type": "code",
   "execution_count": null,
   "metadata": {},
   "outputs": [],
   "source": [
    "W = torch.rand(size=(2000,2000))\n",
    "b = torch.rand(size=(2000,1))\n",
    "h = torch.rand(size=(1_000_000,))\n",
    "x = torch.rand(size=(2000,1))\n",
    "\n",
    "with tsensor.explain(savefig=\"/tmp/foo\"): # save foo-1.svg and foo-2.svg in /tmp\n",
    "    a = torch.relu(x)\n",
    "    b = W @ b + x * 3 + h.dot(h)"
   ]
  },
  {
   "cell_type": "code",
   "execution_count": null,
   "metadata": {},
   "outputs": [],
   "source": [
    "!ls -l /tmp/foo-?.svg"
   ]
  },
  {
   "cell_type": "code",
   "execution_count": null,
   "metadata": {},
   "outputs": [],
   "source": [
    "from IPython.display import SVG\n",
    "display(SVG(\"/tmp/foo-2.svg\"))"
   ]
  },
  {
   "cell_type": "markdown",
   "metadata": {},
   "source": [
    "### Lower-level API to show abstract syntax trees (AST) and evaluate them"
   ]
  },
  {
   "cell_type": "markdown",
   "metadata": {},
   "source": [
    "#### Get ast and computation result"
   ]
  },
  {
   "cell_type": "code",
   "execution_count": null,
   "metadata": {},
   "outputs": [],
   "source": [
    "root, result = tsensor.eval(\"W @ b + x * 3 + h.dot(h)\")  # use current context to evaluate.\n",
    "result"
   ]
  },
  {
   "cell_type": "markdown",
   "metadata": {},
   "source": [
    "#### Show the ast"
   ]
  },
  {
   "cell_type": "code",
   "execution_count": null,
   "metadata": {},
   "outputs": [],
   "source": [
    "tsensor.astviz(\"q = W @ b + x * 3 + h.dot(h) + 4\") # don't eval, just show AST"
   ]
  },
  {
   "cell_type": "code",
   "execution_count": null,
   "metadata": {},
   "outputs": [],
   "source": [
    "g = tsensor.astviz(\"b = W@b + (h+3).dot(h) + torch.abs(torch.tensor(34))\", sys._getframe()) # eval, highlight vectors\n",
    "g"
   ]
  },
  {
   "cell_type": "markdown",
   "metadata": {},
   "source": [
    "#### Show specific code w/o need of a `with` statement:"
   ]
  },
  {
   "cell_type": "code",
   "execution_count": null,
   "metadata": {},
   "outputs": [],
   "source": [
    "import matplotlib.pyplot as plt\n",
    "%config InlineBackend.figure_format = 'retina'\n",
    "\n",
    "fig, ax = plt.subplots(1,1)\n",
    "tsensor.pyviz(\"W @ b + x * 3 + h.dot(h)\", ax=ax)\n",
    "plt.show()"
   ]
  },
  {
   "cell_type": "code",
   "execution_count": null,
   "metadata": {},
   "outputs": [],
   "source": [
    "view = tsensor.pyviz(\"W @ b + x * 3 + h.dot(h)\")\n",
    "view.show()"
   ]
  }
 ],
 "metadata": {
  "kernelspec": {
   "display_name": "Python 3",
   "language": "python",
   "name": "python3"
  },
  "language_info": {
   "codemirror_mode": {
    "name": "ipython",
    "version": 3
   },
   "file_extension": ".py",
   "mimetype": "text/x-python",
   "name": "python",
   "nbconvert_exporter": "python",
   "pygments_lexer": "ipython3",
   "version": "3.8.3"
  }
 },
 "nbformat": 4,
 "nbformat_minor": 4
}
